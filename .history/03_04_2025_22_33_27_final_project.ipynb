{
 "cells": [
  {
   "cell_type": "code",
   "execution_count": null,
   "id": "42f09b82-fe2b-4265-8e71-a45c1f55d376",
   "metadata": {},
   "outputs": [],
   "source": [
    "library(tidyverse)\n",
    "library(repr)\n",
    "library(tidymodels)\n",
    "library(GGally)\n",
    "library(ISLR)\n",
    "library(dplyr)\n",
    "options(repr.matrix.max.rows = 6)"
   ]
  },
  {
   "cell_type": "code",
   "execution_count": null,
   "id": "b57ceddf-2ae5-4583-b3da-80123cb19e72",
   "metadata": {},
   "outputs": [],
   "source": [
    "Title: Project Final Report\n",
    "\n",
    "\n",
    "Introduction:\n",
    "provide some relevant background information on the topic so that someone unfamiliar with it will be prepared to understand the rest of your report\n",
    "clearly state the question you tried to answer with your project\n",
    "identify and fully describe the dataset that was used to answer the question\n",
    "\n",
    "In our project, we are using a dataset that contains information on players playing on Minecraft servers. This dataset contains the variables player experience, status on subscription to newsletter, hashed email, played hours, name, gender, and age. With this information, we are trying to answer the question, \"We would like to know which \"kinds\" of players are most likely to contribute a large amount of data so that we can target those players in our recruiting efforts.\" To answer this, we used the dataset comparing different variables with played hours such as player experience and age.\n",
    "\n",
    "Methods & Results:\n",
    "describe the methods you used to perform your analysis from beginning to end that narrates the analysis code.\n",
    "your report should include code which:\n",
    "loads data \n",
    "wrangles and cleans the data to the format necessary for the planned analysis\n",
    "performs a summary of the data set that is relevant for exploratory data analysis related to the planned analysis \n",
    "creates a visualization of the dataset that is relevant for exploratory data analysis related to the planned analysis\n",
    "performs the data analysis\n",
    "creates a visualization of the analysis \n",
    "note: all figures should have a figure number and a legend\n",
    "\n",
    "To perform this analysis, we first print out the datasets containing the variables needed. Then, we wrangle and clean the data, removing all cells that contain 0 observations. After that, we summarize the data in groups such as age and total hours played, and we calculate means and medians. With these analyses, we then plot visualizations of the analyses and interpret our findings.\n",
    "\n",
    "Discussion:\n",
    "summarize what you found\n",
    "discuss whether this is what you expected to find?\n",
    "discuss what impact could such findings have?\n",
    "discuss what future questions could this lead to?\n",
    "\n",
    "\n",
    "With our results, we found that...\n",
    "\n",
    "\n",
    "\n",
    "\n",
    "References\n",
    "You may include references if necessary, as long as they all have a consistent citation style.\n"
   ]
  },
  {
   "cell_type": "code",
   "execution_count": null,
   "id": "39496380-cfdd-4b1b-bc18-c026464a265d",
   "metadata": {},
   "outputs": [],
   "source": [
    "players <- read_csv(\"https://raw.githubusercontent.com/Chalkkk/dsci-final-group-project/refs/heads/main/data/players.csv\") |>\n",
    "           as_tibble()\n",
    "players"
   ]
  },
  {
   "cell_type": "code",
   "execution_count": null,
   "id": "f10bfa78-7e04-4a14-a43d-0afcd4813345",
   "metadata": {},
   "outputs": [],
   "source": [
    "players <- players |>\n",
    "           select(experience, played_hours, age)\n",
    "players"
   ]
  },
  {
   "cell_type": "code",
   "execution_count": null,
   "id": "7d8ba2ed-8223-4120-9ffe-0c0fff60be0f",
   "metadata": {},
   "outputs": [],
   "source": [
    "# by all data points\n",
    "hours_played_sum <- players |>\n",
    "                    summarize(max_played_hours = max(played_hours, na.rm = TRUE),\n",
    "                              min_played_hours = min(played_hours, na.rm = TRUE),\n",
    "                              total_played_hours = sum(played_hours, na.rm = TRUE),\n",
    "                              average_played_hours = mean(played_hours, na.rm = TRUE),\n",
    "                              median_played_hours = median(played_hours, na.rm = TRUE))                            \n",
    "hours_played_sum"
   ]
  },
  {
   "cell_type": "code",
   "execution_count": null,
   "id": "6237e5e4-ca27-4f77-9c5b-d24c4a8a2f48",
   "metadata": {},
   "outputs": [],
   "source": [
    "# Total and average played hours of players by experience level\n",
    "hours_experience_sum <- players |>\n",
    "                        group_by(experience) |>\n",
    "                        summarize(total_played_hours = sum(played_hours, na.rm = TRUE),\n",
    "                                  average_played_hours = mean(played_hours, na.rm = TRUE),\n",
    "                                  median_played_hours = median(played_hours, na.rm = TRUE))\n",
    "hours_experience_sum"
   ]
  },
  {
   "cell_type": "code",
   "execution_count": null,
   "id": "ae12d337-9061-4ba1-8198-75a4f9a37208",
   "metadata": {},
   "outputs": [],
   "source": [
    "# Maximum and minimum played hours for each experience level\n",
    "hours_experience_range <- players |>\n",
    "                          group_by(experience) |>\n",
    "                          summarize(max_played_hours = max(played_hours, na.rm = TRUE),min_played_hours = min(played_hours, na.rm = TRUE))\n",
    "hours_experience_range"
   ]
  },
  {
   "cell_type": "code",
   "execution_count": null,
   "id": "8c48122a-a5d8-48d7-bec1-93b088ec4329",
   "metadata": {},
   "outputs": [],
   "source": [
    "# Total and average played hours of players by age\n",
    "hours_age_sum <- players |>\n",
    "                    group_by(age) |>\n",
    "                    summarize(total_played_hours = sum(played_hours, na.rm = TRUE),\n",
    "                              average_played_hours = mean(played_hours, na.rm = TRUE),\n",
    "                              median_played_hours = median(played_hours, na.rm = TRUE))\n",
    "hours_age_sum"
   ]
  },
  {
   "cell_type": "code",
   "execution_count": null,
   "id": "8b7c3ea6-2546-4a20-91ae-19c927e3dbd5",
   "metadata": {},
   "outputs": [],
   "source": [
    "# Maximum and minimum played hours for each age\n",
    "hours_age_range <- players |>\n",
    "                   group_by(age) |>\n",
    "                   summarize(max_played_hours = max(played_hours, na.rm = TRUE),\n",
    "                             min_played_hours = min(played_hours, na.rm = TRUE))\n",
    "hours_age_range"
   ]
  },
  {
   "cell_type": "code",
   "execution_count": null,
   "id": "92adf805-aff5-4b8e-a5ed-dfc3e66df62b",
   "metadata": {},
   "outputs": [],
   "source": [
    "hours_age_exp_sum <- players |>\n",
    "                     group_by(age, experience) |>\n",
    "                     summarize(total_played_hours = sum(played_hours, na.rm = TRUE),\n",
    "                               average_played_hours = mean(played_hours, na.rm = TRUE),\n",
    "                               median_played_hours = median(played_hours, na.rm = TRUE))\n",
    "hours_age_exp_sum"
   ]
  },
  {
   "cell_type": "code",
   "execution_count": null,
   "id": "8669caa9-e287-48d9-ac7b-45ca54e93569",
   "metadata": {},
   "outputs": [],
   "source": [
    "hours_age_exp_range <- players |>\n",
    "                       group_by(age, experience) |>\n",
    "                       summarize(max_played_hours = max(played_hours, na.rm = TRUE),\n",
    "                                 min_played_hours = min(played_hours, na.rm = TRUE))\n",
    "hours_age_exp_range"
   ]
  },
  {
   "cell_type": "code",
   "execution_count": null,
   "id": "6d78d29b-8fa4-44fe-b60f-4cb85704cbcd",
   "metadata": {},
   "outputs": [],
   "source": [
    "hours_exp_age_sum <- players |>\n",
    "                     group_by(experience, age) |>\n",
    "                     summarize(total_played_hours = sum(played_hours, na.rm = TRUE),\n",
    "                               average_played_hours = mean(played_hours, na.rm = TRUE),\n",
    "                               median_played_hours = median(played_hours, na.rm = TRUE))\n",
    "hours_exp_age_sum"
   ]
  },
  {
   "cell_type": "code",
   "execution_count": null,
   "id": "0dd92ddf-e86a-4f4d-b2c3-0dd774b99a5e",
   "metadata": {},
   "outputs": [],
   "source": [
    "hours_exp_age_range <- players |>\n",
    "                       group_by(experience, age) |>\n",
    "                       summarize(max_played_hours = max(played_hours, na.rm = TRUE),\n",
    "                                 min_played_hours = min(played_hours, na.rm = TRUE))\n",
    "hours_exp_age_range"
   ]
  },
  {
   "cell_type": "code",
   "execution_count": null,
   "id": "401f21e7-9f15-4687-8ca2-3263cfb65615",
   "metadata": {},
   "outputs": [],
   "source": [
    "hours_experience_bars <- hours_experience_sum |>\n",
    "                         mutate(experience = factor(experience, levels = c(\"Beginner\", \"Amateur\", \"Regular\", \"Pro\", \"Veteran\"))) |>\n",
    "                         ggplot(aes(x = experience, y = average_played_hours, fill = experience)) + \n",
    "                         geom_bar(stat = \"identity\") +\n",
    "                         labs(title = \"Average Hours Played by Experience Level\", \n",
    "                              x = \"Experience Level\", \n",
    "                              y = \"Average Hours Played\")\n",
    "hours_experience_bars"
   ]
  },
  {
   "cell_type": "code",
   "execution_count": null,
   "id": "3c79aaf6-7305-4b6f-88e9-d4bd0797adab",
   "metadata": {},
   "outputs": [],
   "source": [
    "hours_age_bars <- hours_age_sum |>\n",
    "                  ggplot(aes(x = factor(age), y = average_played_hours)) +\n",
    "                  geom_bar(stat = \"identity\", \n",
    "                           fill = \"steelblue\", \n",
    "                           colour = \"black\") +\n",
    "                  labs(title = \"Average Hours Played by Age\",\n",
    "                       x = \"Age\",\n",
    "                       y = \"Average Hours Played\")\n",
    "hours_age_bars"
   ]
  },
  {
   "cell_type": "code",
   "execution_count": null,
   "id": "59f411b8-b9bd-4402-8d73-a35a5ec6fe86",
   "metadata": {},
   "outputs": [],
   "source": [
    "options(repr.plot.width = 10, repr.plot.height = 12)\n",
    "\n",
    "hour_age_experience_plot <- players |>\n",
    "  ggplot(aes(x = age, y = played_hours)) +\n",
    "  geom_point(aes(colour = experience)) + \n",
    "  geom_smooth(method = \"lm\", se = FALSE, colour = \"black\") +  # overall trendline in black\n",
    "  labs(title = \"Hours Played vs Age\", \n",
    "       x = \"Age\", \n",
    "       y = \"Played Hours\", \n",
    "       colour = \"Experience Level\")\n",
    "\n",
    "hour_age_experience_plot"
   ]
  },
  {
   "cell_type": "code",
   "execution_count": null,
   "id": "355a3a44-118e-4fc6-bd7f-1d4a2825322c",
   "metadata": {},
   "outputs": [],
   "source": []
  }
 ],
 "metadata": {
  "kernelspec": {
   "display_name": "R",
   "language": "R",
   "name": "ir"
  },
  "language_info": {
   "codemirror_mode": "r",
   "file_extension": ".r",
   "mimetype": "text/x-r-source",
   "name": "R",
   "pygments_lexer": "r",
   "version": "4.3.3"
  }
 },
 "nbformat": 4,
 "nbformat_minor": 5
}
