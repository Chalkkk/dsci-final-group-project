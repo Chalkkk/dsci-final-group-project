{
 "cells": [
  {
   "cell_type": "code",
   "execution_count": 1,
   "id": "42f09b82-fe2b-4265-8e71-a45c1f55d376",
   "metadata": {},
   "outputs": [
    {
     "name": "stderr",
     "output_type": "stream",
     "text": [
      "── \u001b[1mAttaching core tidyverse packages\u001b[22m ──────────────────────── tidyverse 2.0.0 ──\n",
      "\u001b[32m✔\u001b[39m \u001b[34mdplyr    \u001b[39m 1.1.4     \u001b[32m✔\u001b[39m \u001b[34mreadr    \u001b[39m 2.1.5\n",
      "\u001b[32m✔\u001b[39m \u001b[34mforcats  \u001b[39m 1.0.0     \u001b[32m✔\u001b[39m \u001b[34mstringr  \u001b[39m 1.5.1\n",
      "\u001b[32m✔\u001b[39m \u001b[34mggplot2  \u001b[39m 3.5.1     \u001b[32m✔\u001b[39m \u001b[34mtibble   \u001b[39m 3.2.1\n",
      "\u001b[32m✔\u001b[39m \u001b[34mlubridate\u001b[39m 1.9.3     \u001b[32m✔\u001b[39m \u001b[34mtidyr    \u001b[39m 1.3.1\n",
      "\u001b[32m✔\u001b[39m \u001b[34mpurrr    \u001b[39m 1.0.2     \n",
      "── \u001b[1mConflicts\u001b[22m ────────────────────────────────────────── tidyverse_conflicts() ──\n",
      "\u001b[31m✖\u001b[39m \u001b[34mdplyr\u001b[39m::\u001b[32mfilter()\u001b[39m masks \u001b[34mstats\u001b[39m::filter()\n",
      "\u001b[31m✖\u001b[39m \u001b[34mdplyr\u001b[39m::\u001b[32mlag()\u001b[39m    masks \u001b[34mstats\u001b[39m::lag()\n",
      "\u001b[36mℹ\u001b[39m Use the conflicted package (\u001b[3m\u001b[34m<http://conflicted.r-lib.org/>\u001b[39m\u001b[23m) to force all conflicts to become errors\n",
      "── \u001b[1mAttaching packages\u001b[22m ────────────────────────────────────── tidymodels 1.1.1 ──\n",
      "\n",
      "\u001b[32m✔\u001b[39m \u001b[34mbroom       \u001b[39m 1.0.6     \u001b[32m✔\u001b[39m \u001b[34mrsample     \u001b[39m 1.2.1\n",
      "\u001b[32m✔\u001b[39m \u001b[34mdials       \u001b[39m 1.3.0     \u001b[32m✔\u001b[39m \u001b[34mtune        \u001b[39m 1.1.2\n",
      "\u001b[32m✔\u001b[39m \u001b[34minfer       \u001b[39m 1.0.7     \u001b[32m✔\u001b[39m \u001b[34mworkflows   \u001b[39m 1.1.4\n",
      "\u001b[32m✔\u001b[39m \u001b[34mmodeldata   \u001b[39m 1.4.0     \u001b[32m✔\u001b[39m \u001b[34mworkflowsets\u001b[39m 1.0.1\n",
      "\u001b[32m✔\u001b[39m \u001b[34mparsnip     \u001b[39m 1.2.1     \u001b[32m✔\u001b[39m \u001b[34myardstick   \u001b[39m 1.3.1\n",
      "\u001b[32m✔\u001b[39m \u001b[34mrecipes     \u001b[39m 1.1.0     \n",
      "\n",
      "── \u001b[1mConflicts\u001b[22m ───────────────────────────────────────── tidymodels_conflicts() ──\n",
      "\u001b[31m✖\u001b[39m \u001b[34mscales\u001b[39m::\u001b[32mdiscard()\u001b[39m masks \u001b[34mpurrr\u001b[39m::discard()\n",
      "\u001b[31m✖\u001b[39m \u001b[34mdplyr\u001b[39m::\u001b[32mfilter()\u001b[39m   masks \u001b[34mstats\u001b[39m::filter()\n",
      "\u001b[31m✖\u001b[39m \u001b[34mrecipes\u001b[39m::\u001b[32mfixed()\u001b[39m  masks \u001b[34mstringr\u001b[39m::fixed()\n",
      "\u001b[31m✖\u001b[39m \u001b[34mdplyr\u001b[39m::\u001b[32mlag()\u001b[39m      masks \u001b[34mstats\u001b[39m::lag()\n",
      "\u001b[31m✖\u001b[39m \u001b[34myardstick\u001b[39m::\u001b[32mspec()\u001b[39m masks \u001b[34mreadr\u001b[39m::spec()\n",
      "\u001b[31m✖\u001b[39m \u001b[34mrecipes\u001b[39m::\u001b[32mstep()\u001b[39m   masks \u001b[34mstats\u001b[39m::step()\n",
      "\u001b[34m•\u001b[39m Dig deeper into tidy modeling with R at \u001b[32mhttps://www.tmwr.org\u001b[39m\n",
      "\n",
      "Registered S3 method overwritten by 'GGally':\n",
      "  method from   \n",
      "  +.gg   ggplot2\n",
      "\n"
     ]
    }
   ],
   "source": [
    "library(tidyverse)\n",
    "library(repr)\n",
    "library(tidymodels)\n",
    "library(GGally)\n",
    "library(ISLR)\n",
    "library(dplyr)\n",
    "options(repr.matrix.max.rows = 6)"
   ]
  },
  {
   "cell_type": "code",
   "execution_count": 2,
   "id": "39496380-cfdd-4b1b-bc18-c026464a265d",
   "metadata": {},
   "outputs": [
    {
     "data": {
      "text/html": [
       "<table class=\"dataframe\">\n",
       "<caption>A tibble: 196 × 7</caption>\n",
       "<thead>\n",
       "\t<tr><th scope=col>experience</th><th scope=col>subscribe</th><th scope=col>hashedEmail</th><th scope=col>played_hours</th><th scope=col>name</th><th scope=col>gender</th><th scope=col>Age</th></tr>\n",
       "\t<tr><th scope=col>&lt;chr&gt;</th><th scope=col>&lt;lgl&gt;</th><th scope=col>&lt;chr&gt;</th><th scope=col>&lt;dbl&gt;</th><th scope=col>&lt;chr&gt;</th><th scope=col>&lt;chr&gt;</th><th scope=col>&lt;dbl&gt;</th></tr>\n",
       "</thead>\n",
       "<tbody>\n",
       "\t<tr><td>Pro    </td><td> TRUE</td><td>f6daba428a5e19a3d47574858c13550499be23603422e6a0ee9728f8b53e192d</td><td>30.3</td><td>Morgan   </td><td>Male</td><td> 9</td></tr>\n",
       "\t<tr><td>Veteran</td><td> TRUE</td><td>f3c813577c458ba0dfef80996f8f32c93b6e8af1fa939732842f2312358a88e9</td><td> 3.8</td><td>Christian</td><td>Male</td><td>17</td></tr>\n",
       "\t<tr><td>Veteran</td><td>FALSE</td><td>b674dd7ee0d24096d1c019615ce4d12b20fcbff12d79d3c5a9d2118eb7ccbb28</td><td> 0.0</td><td>Blake    </td><td>Male</td><td>17</td></tr>\n",
       "\t<tr><td>⋮</td><td>⋮</td><td>⋮</td><td>⋮</td><td>⋮</td><td>⋮</td><td>⋮</td></tr>\n",
       "\t<tr><td>Amateur</td><td>FALSE</td><td>d572f391d452b76ea2d7e5e53a3d38bfd7499c7399db299bd4fedb06a46ad5bb</td><td>0.0</td><td>Dylan </td><td>Prefer not to say</td><td>17</td></tr>\n",
       "\t<tr><td>Amateur</td><td>FALSE</td><td>f19e136ddde68f365afc860c725ccff54307dedd13968e896a9f890c40aea436</td><td>2.3</td><td>Harlow</td><td>Male             </td><td>17</td></tr>\n",
       "\t<tr><td>Pro    </td><td> TRUE</td><td>d9473710057f7d42f36570f0be83817a4eea614029ff90cf50d8889cdd729d11</td><td>0.2</td><td>Ahmed </td><td>Other            </td><td>NA</td></tr>\n",
       "</tbody>\n",
       "</table>\n"
      ],
      "text/latex": [
       "A tibble: 196 × 7\n",
       "\\begin{tabular}{lllllll}\n",
       " experience & subscribe & hashedEmail & played\\_hours & name & gender & Age\\\\\n",
       " <chr> & <lgl> & <chr> & <dbl> & <chr> & <chr> & <dbl>\\\\\n",
       "\\hline\n",
       "\t Pro     &  TRUE & f6daba428a5e19a3d47574858c13550499be23603422e6a0ee9728f8b53e192d & 30.3 & Morgan    & Male &  9\\\\\n",
       "\t Veteran &  TRUE & f3c813577c458ba0dfef80996f8f32c93b6e8af1fa939732842f2312358a88e9 &  3.8 & Christian & Male & 17\\\\\n",
       "\t Veteran & FALSE & b674dd7ee0d24096d1c019615ce4d12b20fcbff12d79d3c5a9d2118eb7ccbb28 &  0.0 & Blake     & Male & 17\\\\\n",
       "\t ⋮ & ⋮ & ⋮ & ⋮ & ⋮ & ⋮ & ⋮\\\\\n",
       "\t Amateur & FALSE & d572f391d452b76ea2d7e5e53a3d38bfd7499c7399db299bd4fedb06a46ad5bb & 0.0 & Dylan  & Prefer not to say & 17\\\\\n",
       "\t Amateur & FALSE & f19e136ddde68f365afc860c725ccff54307dedd13968e896a9f890c40aea436 & 2.3 & Harlow & Male              & 17\\\\\n",
       "\t Pro     &  TRUE & d9473710057f7d42f36570f0be83817a4eea614029ff90cf50d8889cdd729d11 & 0.2 & Ahmed  & Other             & NA\\\\\n",
       "\\end{tabular}\n"
      ],
      "text/markdown": [
       "\n",
       "A tibble: 196 × 7\n",
       "\n",
       "| experience &lt;chr&gt; | subscribe &lt;lgl&gt; | hashedEmail &lt;chr&gt; | played_hours &lt;dbl&gt; | name &lt;chr&gt; | gender &lt;chr&gt; | Age &lt;dbl&gt; |\n",
       "|---|---|---|---|---|---|---|\n",
       "| Pro     |  TRUE | f6daba428a5e19a3d47574858c13550499be23603422e6a0ee9728f8b53e192d | 30.3 | Morgan    | Male |  9 |\n",
       "| Veteran |  TRUE | f3c813577c458ba0dfef80996f8f32c93b6e8af1fa939732842f2312358a88e9 |  3.8 | Christian | Male | 17 |\n",
       "| Veteran | FALSE | b674dd7ee0d24096d1c019615ce4d12b20fcbff12d79d3c5a9d2118eb7ccbb28 |  0.0 | Blake     | Male | 17 |\n",
       "| ⋮ | ⋮ | ⋮ | ⋮ | ⋮ | ⋮ | ⋮ |\n",
       "| Amateur | FALSE | d572f391d452b76ea2d7e5e53a3d38bfd7499c7399db299bd4fedb06a46ad5bb | 0.0 | Dylan  | Prefer not to say | 17 |\n",
       "| Amateur | FALSE | f19e136ddde68f365afc860c725ccff54307dedd13968e896a9f890c40aea436 | 2.3 | Harlow | Male              | 17 |\n",
       "| Pro     |  TRUE | d9473710057f7d42f36570f0be83817a4eea614029ff90cf50d8889cdd729d11 | 0.2 | Ahmed  | Other             | NA |\n",
       "\n"
      ],
      "text/plain": [
       "    experience subscribe\n",
       "1   Pro         TRUE    \n",
       "2   Veteran     TRUE    \n",
       "3   Veteran    FALSE    \n",
       "⋮   ⋮          ⋮        \n",
       "194 Amateur    FALSE    \n",
       "195 Amateur    FALSE    \n",
       "196 Pro         TRUE    \n",
       "    hashedEmail                                                     \n",
       "1   f6daba428a5e19a3d47574858c13550499be23603422e6a0ee9728f8b53e192d\n",
       "2   f3c813577c458ba0dfef80996f8f32c93b6e8af1fa939732842f2312358a88e9\n",
       "3   b674dd7ee0d24096d1c019615ce4d12b20fcbff12d79d3c5a9d2118eb7ccbb28\n",
       "⋮   ⋮                                                               \n",
       "194 d572f391d452b76ea2d7e5e53a3d38bfd7499c7399db299bd4fedb06a46ad5bb\n",
       "195 f19e136ddde68f365afc860c725ccff54307dedd13968e896a9f890c40aea436\n",
       "196 d9473710057f7d42f36570f0be83817a4eea614029ff90cf50d8889cdd729d11\n",
       "    played_hours name      gender            Age\n",
       "1   30.3         Morgan    Male               9 \n",
       "2    3.8         Christian Male              17 \n",
       "3    0.0         Blake     Male              17 \n",
       "⋮   ⋮            ⋮         ⋮                 ⋮  \n",
       "194 0.0          Dylan     Prefer not to say 17 \n",
       "195 2.3          Harlow    Male              17 \n",
       "196 0.2          Ahmed     Other             NA "
      ]
     },
     "metadata": {},
     "output_type": "display_data"
    }
   ],
   "source": [
    "players <- read_csv(\"https://raw.githubusercontent.com/Chalkkk/dsci-final-group-project/refs/heads/main/players.csv\", show_col_types = FALSE) |>\n",
    "           as_tibble()\n",
    "players"
   ]
  },
  {
   "cell_type": "code",
   "execution_count": 3,
   "id": "f10bfa78-7e04-4a14-a43d-0afcd4813345",
   "metadata": {},
   "outputs": [
    {
     "data": {
      "text/html": [
       "<table class=\"dataframe\">\n",
       "<caption>A tibble: 196 × 3</caption>\n",
       "<thead>\n",
       "\t<tr><th scope=col>experience</th><th scope=col>played_hours</th><th scope=col>age</th></tr>\n",
       "\t<tr><th scope=col>&lt;chr&gt;</th><th scope=col>&lt;dbl&gt;</th><th scope=col>&lt;dbl&gt;</th></tr>\n",
       "</thead>\n",
       "<tbody>\n",
       "\t<tr><td>Pro    </td><td>30.3</td><td> 9</td></tr>\n",
       "\t<tr><td>Veteran</td><td> 3.8</td><td>17</td></tr>\n",
       "\t<tr><td>Veteran</td><td> 0.0</td><td>17</td></tr>\n",
       "\t<tr><td>⋮</td><td>⋮</td><td>⋮</td></tr>\n",
       "\t<tr><td>Amateur</td><td>0.0</td><td>17</td></tr>\n",
       "\t<tr><td>Amateur</td><td>2.3</td><td>17</td></tr>\n",
       "\t<tr><td>Pro    </td><td>0.2</td><td>NA</td></tr>\n",
       "</tbody>\n",
       "</table>\n"
      ],
      "text/latex": [
       "A tibble: 196 × 3\n",
       "\\begin{tabular}{lll}\n",
       " experience & played\\_hours & age\\\\\n",
       " <chr> & <dbl> & <dbl>\\\\\n",
       "\\hline\n",
       "\t Pro     & 30.3 &  9\\\\\n",
       "\t Veteran &  3.8 & 17\\\\\n",
       "\t Veteran &  0.0 & 17\\\\\n",
       "\t ⋮ & ⋮ & ⋮\\\\\n",
       "\t Amateur & 0.0 & 17\\\\\n",
       "\t Amateur & 2.3 & 17\\\\\n",
       "\t Pro     & 0.2 & NA\\\\\n",
       "\\end{tabular}\n"
      ],
      "text/markdown": [
       "\n",
       "A tibble: 196 × 3\n",
       "\n",
       "| experience &lt;chr&gt; | played_hours &lt;dbl&gt; | age &lt;dbl&gt; |\n",
       "|---|---|---|\n",
       "| Pro     | 30.3 |  9 |\n",
       "| Veteran |  3.8 | 17 |\n",
       "| Veteran |  0.0 | 17 |\n",
       "| ⋮ | ⋮ | ⋮ |\n",
       "| Amateur | 0.0 | 17 |\n",
       "| Amateur | 2.3 | 17 |\n",
       "| Pro     | 0.2 | NA |\n",
       "\n"
      ],
      "text/plain": [
       "    experience played_hours age\n",
       "1   Pro        30.3          9 \n",
       "2   Veteran     3.8         17 \n",
       "3   Veteran     0.0         17 \n",
       "⋮   ⋮          ⋮            ⋮  \n",
       "194 Amateur    0.0          17 \n",
       "195 Amateur    2.3          17 \n",
       "196 Pro        0.2          NA "
      ]
     },
     "metadata": {},
     "output_type": "display_data"
    }
   ],
   "source": [
    "players <- players |>\n",
    "        rename(age = Age) |>\n",
    "        select(experience, played_hours, age)\n",
    "players"
   ]
  },
  {
   "cell_type": "code",
   "execution_count": 4,
   "id": "7d8ba2ed-8223-4120-9ffe-0c0fff60be0f",
   "metadata": {},
   "outputs": [
    {
     "data": {
      "text/html": [
       "<table class=\"dataframe\">\n",
       "<caption>A tibble: 1 × 5</caption>\n",
       "<thead>\n",
       "\t<tr><th scope=col>max_played_hours</th><th scope=col>min_played_hours</th><th scope=col>total_played_hours</th><th scope=col>average_played_hours</th><th scope=col>median_played_hours</th></tr>\n",
       "\t<tr><th scope=col>&lt;dbl&gt;</th><th scope=col>&lt;dbl&gt;</th><th scope=col>&lt;dbl&gt;</th><th scope=col>&lt;dbl&gt;</th><th scope=col>&lt;dbl&gt;</th></tr>\n",
       "</thead>\n",
       "<tbody>\n",
       "\t<tr><td>223.1</td><td>0</td><td>1145.8</td><td>5.845918</td><td>0.1</td></tr>\n",
       "</tbody>\n",
       "</table>\n"
      ],
      "text/latex": [
       "A tibble: 1 × 5\n",
       "\\begin{tabular}{lllll}\n",
       " max\\_played\\_hours & min\\_played\\_hours & total\\_played\\_hours & average\\_played\\_hours & median\\_played\\_hours\\\\\n",
       " <dbl> & <dbl> & <dbl> & <dbl> & <dbl>\\\\\n",
       "\\hline\n",
       "\t 223.1 & 0 & 1145.8 & 5.845918 & 0.1\\\\\n",
       "\\end{tabular}\n"
      ],
      "text/markdown": [
       "\n",
       "A tibble: 1 × 5\n",
       "\n",
       "| max_played_hours &lt;dbl&gt; | min_played_hours &lt;dbl&gt; | total_played_hours &lt;dbl&gt; | average_played_hours &lt;dbl&gt; | median_played_hours &lt;dbl&gt; |\n",
       "|---|---|---|---|---|\n",
       "| 223.1 | 0 | 1145.8 | 5.845918 | 0.1 |\n",
       "\n"
      ],
      "text/plain": [
       "  max_played_hours min_played_hours total_played_hours average_played_hours\n",
       "1 223.1            0                1145.8             5.845918            \n",
       "  median_played_hours\n",
       "1 0.1                "
      ]
     },
     "metadata": {},
     "output_type": "display_data"
    }
   ],
   "source": [
    "# by all data points\n",
    "hours_played_sum <- players |>\n",
    "                    summarize(max_played_hours = max(played_hours, na.rm = TRUE),\n",
    "                              min_played_hours = min(played_hours, na.rm = TRUE),\n",
    "                              total_played_hours = sum(played_hours, na.rm = TRUE),\n",
    "                              average_played_hours = mean(played_hours, na.rm = TRUE),\n",
    "                              median_played_hours = median(played_hours, na.rm = TRUE))                            \n",
    "hours_played_sum"
   ]
  },
  {
   "cell_type": "code",
   "execution_count": 5,
   "id": "6237e5e4-ca27-4f77-9c5b-d24c4a8a2f48",
   "metadata": {},
   "outputs": [
    {
     "data": {
      "text/html": [
       "<table class=\"dataframe\">\n",
       "<caption>A tibble: 5 × 4</caption>\n",
       "<thead>\n",
       "\t<tr><th scope=col>experience</th><th scope=col>total_played_hours</th><th scope=col>average_played_hours</th><th scope=col>median_played_hours</th></tr>\n",
       "\t<tr><th scope=col>&lt;chr&gt;</th><th scope=col>&lt;dbl&gt;</th><th scope=col>&lt;dbl&gt;</th><th scope=col>&lt;dbl&gt;</th></tr>\n",
       "</thead>\n",
       "<tbody>\n",
       "\t<tr><td>Amateur </td><td>379.1</td><td> 6.0174603</td><td>0.1</td></tr>\n",
       "\t<tr><td>Beginner</td><td> 43.7</td><td> 1.2485714</td><td>0.1</td></tr>\n",
       "\t<tr><td>Pro     </td><td> 36.4</td><td> 2.6000000</td><td>0.3</td></tr>\n",
       "\t<tr><td>Regular </td><td>655.5</td><td>18.2083333</td><td>0.1</td></tr>\n",
       "\t<tr><td>Veteran </td><td> 31.1</td><td> 0.6479167</td><td>0.1</td></tr>\n",
       "</tbody>\n",
       "</table>\n"
      ],
      "text/latex": [
       "A tibble: 5 × 4\n",
       "\\begin{tabular}{llll}\n",
       " experience & total\\_played\\_hours & average\\_played\\_hours & median\\_played\\_hours\\\\\n",
       " <chr> & <dbl> & <dbl> & <dbl>\\\\\n",
       "\\hline\n",
       "\t Amateur  & 379.1 &  6.0174603 & 0.1\\\\\n",
       "\t Beginner &  43.7 &  1.2485714 & 0.1\\\\\n",
       "\t Pro      &  36.4 &  2.6000000 & 0.3\\\\\n",
       "\t Regular  & 655.5 & 18.2083333 & 0.1\\\\\n",
       "\t Veteran  &  31.1 &  0.6479167 & 0.1\\\\\n",
       "\\end{tabular}\n"
      ],
      "text/markdown": [
       "\n",
       "A tibble: 5 × 4\n",
       "\n",
       "| experience &lt;chr&gt; | total_played_hours &lt;dbl&gt; | average_played_hours &lt;dbl&gt; | median_played_hours &lt;dbl&gt; |\n",
       "|---|---|---|---|\n",
       "| Amateur  | 379.1 |  6.0174603 | 0.1 |\n",
       "| Beginner |  43.7 |  1.2485714 | 0.1 |\n",
       "| Pro      |  36.4 |  2.6000000 | 0.3 |\n",
       "| Regular  | 655.5 | 18.2083333 | 0.1 |\n",
       "| Veteran  |  31.1 |  0.6479167 | 0.1 |\n",
       "\n"
      ],
      "text/plain": [
       "  experience total_played_hours average_played_hours median_played_hours\n",
       "1 Amateur    379.1               6.0174603           0.1                \n",
       "2 Beginner    43.7               1.2485714           0.1                \n",
       "3 Pro         36.4               2.6000000           0.3                \n",
       "4 Regular    655.5              18.2083333           0.1                \n",
       "5 Veteran     31.1               0.6479167           0.1                "
      ]
     },
     "metadata": {},
     "output_type": "display_data"
    }
   ],
   "source": [
    "# Total and average played hours of players by experience level\n",
    "hours_experience_sum <- players |>\n",
    "                    group_by(experience) |>\n",
    "                    summarize(total_played_hours = sum(played_hours, na.rm = TRUE),\n",
    "                              average_played_hours = mean(played_hours, na.rm = TRUE),\n",
    "                              median_played_hours = median(played_hours, na.rm = TRUE))\n",
    "hours_experience_sum"
   ]
  },
  {
   "cell_type": "code",
   "execution_count": 6,
   "id": "ae12d337-9061-4ba1-8198-75a4f9a37208",
   "metadata": {},
   "outputs": [
    {
     "data": {
      "text/html": [
       "<table class=\"dataframe\">\n",
       "<caption>A tibble: 5 × 3</caption>\n",
       "<thead>\n",
       "\t<tr><th scope=col>experience</th><th scope=col>max_played_hours</th><th scope=col>min_played_hours</th></tr>\n",
       "\t<tr><th scope=col>&lt;chr&gt;</th><th scope=col>&lt;dbl&gt;</th><th scope=col>&lt;dbl&gt;</th></tr>\n",
       "</thead>\n",
       "<tbody>\n",
       "\t<tr><td>Amateur </td><td>150.0</td><td>0</td></tr>\n",
       "\t<tr><td>Beginner</td><td> 23.7</td><td>0</td></tr>\n",
       "\t<tr><td>Pro     </td><td> 30.3</td><td>0</td></tr>\n",
       "\t<tr><td>Regular </td><td>223.1</td><td>0</td></tr>\n",
       "\t<tr><td>Veteran </td><td> 12.5</td><td>0</td></tr>\n",
       "</tbody>\n",
       "</table>\n"
      ],
      "text/latex": [
       "A tibble: 5 × 3\n",
       "\\begin{tabular}{lll}\n",
       " experience & max\\_played\\_hours & min\\_played\\_hours\\\\\n",
       " <chr> & <dbl> & <dbl>\\\\\n",
       "\\hline\n",
       "\t Amateur  & 150.0 & 0\\\\\n",
       "\t Beginner &  23.7 & 0\\\\\n",
       "\t Pro      &  30.3 & 0\\\\\n",
       "\t Regular  & 223.1 & 0\\\\\n",
       "\t Veteran  &  12.5 & 0\\\\\n",
       "\\end{tabular}\n"
      ],
      "text/markdown": [
       "\n",
       "A tibble: 5 × 3\n",
       "\n",
       "| experience &lt;chr&gt; | max_played_hours &lt;dbl&gt; | min_played_hours &lt;dbl&gt; |\n",
       "|---|---|---|\n",
       "| Amateur  | 150.0 | 0 |\n",
       "| Beginner |  23.7 | 0 |\n",
       "| Pro      |  30.3 | 0 |\n",
       "| Regular  | 223.1 | 0 |\n",
       "| Veteran  |  12.5 | 0 |\n",
       "\n"
      ],
      "text/plain": [
       "  experience max_played_hours min_played_hours\n",
       "1 Amateur    150.0            0               \n",
       "2 Beginner    23.7            0               \n",
       "3 Pro         30.3            0               \n",
       "4 Regular    223.1            0               \n",
       "5 Veteran     12.5            0               "
      ]
     },
     "metadata": {},
     "output_type": "display_data"
    }
   ],
   "source": [
    "# Maximum and minimum played hours for each experience level\n",
    "hours_experience_range <- players |>\n",
    "                    group_by(experience) |>\n",
    "                    summarize(max_played_hours = max(played_hours, na.rm = TRUE),\n",
    "                              min_played_hours = min(played_hours, na.rm = TRUE))\n",
    "hours_experience_range"
   ]
  },
  {
   "cell_type": "code",
   "execution_count": 7,
   "id": "8c48122a-a5d8-48d7-bec1-93b088ec4329",
   "metadata": {},
   "outputs": [
    {
     "data": {
      "text/html": [
       "<table class=\"dataframe\">\n",
       "<caption>A tibble: 31 × 4</caption>\n",
       "<thead>\n",
       "\t<tr><th scope=col>age</th><th scope=col>total_played_hours</th><th scope=col>average_played_hours</th><th scope=col>median_played_hours</th></tr>\n",
       "\t<tr><th scope=col>&lt;dbl&gt;</th><th scope=col>&lt;dbl&gt;</th><th scope=col>&lt;dbl&gt;</th><th scope=col>&lt;dbl&gt;</th></tr>\n",
       "</thead>\n",
       "<tbody>\n",
       "\t<tr><td> 8</td><td> 0.3</td><td> 0.3</td><td> 0.3</td></tr>\n",
       "\t<tr><td> 9</td><td>30.3</td><td>30.3</td><td>30.3</td></tr>\n",
       "\t<tr><td>10</td><td> 3.6</td><td> 3.6</td><td> 3.6</td></tr>\n",
       "\t<tr><td>⋮</td><td>⋮</td><td>⋮</td><td>⋮</td></tr>\n",
       "\t<tr><td>49</td><td>18.5</td><td>18.50</td><td>18.50</td></tr>\n",
       "\t<tr><td>50</td><td> 0.0</td><td> 0.00</td><td> 0.00</td></tr>\n",
       "\t<tr><td>NA</td><td> 0.3</td><td> 0.15</td><td> 0.15</td></tr>\n",
       "</tbody>\n",
       "</table>\n"
      ],
      "text/latex": [
       "A tibble: 31 × 4\n",
       "\\begin{tabular}{llll}\n",
       " age & total\\_played\\_hours & average\\_played\\_hours & median\\_played\\_hours\\\\\n",
       " <dbl> & <dbl> & <dbl> & <dbl>\\\\\n",
       "\\hline\n",
       "\t  8 &  0.3 &  0.3 &  0.3\\\\\n",
       "\t  9 & 30.3 & 30.3 & 30.3\\\\\n",
       "\t 10 &  3.6 &  3.6 &  3.6\\\\\n",
       "\t ⋮ & ⋮ & ⋮ & ⋮\\\\\n",
       "\t 49 & 18.5 & 18.50 & 18.50\\\\\n",
       "\t 50 &  0.0 &  0.00 &  0.00\\\\\n",
       "\t NA &  0.3 &  0.15 &  0.15\\\\\n",
       "\\end{tabular}\n"
      ],
      "text/markdown": [
       "\n",
       "A tibble: 31 × 4\n",
       "\n",
       "| age &lt;dbl&gt; | total_played_hours &lt;dbl&gt; | average_played_hours &lt;dbl&gt; | median_played_hours &lt;dbl&gt; |\n",
       "|---|---|---|---|\n",
       "|  8 |  0.3 |  0.3 |  0.3 |\n",
       "|  9 | 30.3 | 30.3 | 30.3 |\n",
       "| 10 |  3.6 |  3.6 |  3.6 |\n",
       "| ⋮ | ⋮ | ⋮ | ⋮ |\n",
       "| 49 | 18.5 | 18.50 | 18.50 |\n",
       "| 50 |  0.0 |  0.00 |  0.00 |\n",
       "| NA |  0.3 |  0.15 |  0.15 |\n",
       "\n"
      ],
      "text/plain": [
       "   age total_played_hours average_played_hours median_played_hours\n",
       "1   8   0.3                0.3                  0.3               \n",
       "2   9  30.3               30.3                 30.3               \n",
       "3  10   3.6                3.6                  3.6               \n",
       "⋮  ⋮   ⋮                  ⋮                    ⋮                  \n",
       "29 49  18.5               18.50                18.50              \n",
       "30 50   0.0                0.00                 0.00              \n",
       "31 NA   0.3                0.15                 0.15              "
      ]
     },
     "metadata": {},
     "output_type": "display_data"
    }
   ],
   "source": [
    "# Total and average played hours of players by age\n",
    "hours_age_sum <- players |>\n",
    "                    group_by(age) |>\n",
    "                    summarize(total_played_hours = sum(played_hours, na.rm = TRUE),\n",
    "                              average_played_hours = mean(played_hours, na.rm = TRUE),\n",
    "                              median_played_hours = median(played_hours, na.rm = TRUE))\n",
    "hours_age_sum"
   ]
  },
  {
   "cell_type": "code",
   "execution_count": 8,
   "id": "8b7c3ea6-2546-4a20-91ae-19c927e3dbd5",
   "metadata": {},
   "outputs": [
    {
     "data": {
      "text/html": [
       "<table class=\"dataframe\">\n",
       "<caption>A tibble: 31 × 3</caption>\n",
       "<thead>\n",
       "\t<tr><th scope=col>age</th><th scope=col>max_played_hours</th><th scope=col>min_played_hours</th></tr>\n",
       "\t<tr><th scope=col>&lt;dbl&gt;</th><th scope=col>&lt;dbl&gt;</th><th scope=col>&lt;dbl&gt;</th></tr>\n",
       "</thead>\n",
       "<tbody>\n",
       "\t<tr><td> 8</td><td> 0.3</td><td> 0.3</td></tr>\n",
       "\t<tr><td> 9</td><td>30.3</td><td>30.3</td></tr>\n",
       "\t<tr><td>10</td><td> 3.6</td><td> 3.6</td></tr>\n",
       "\t<tr><td>⋮</td><td>⋮</td><td>⋮</td></tr>\n",
       "\t<tr><td>49</td><td>18.5</td><td>18.5</td></tr>\n",
       "\t<tr><td>50</td><td> 0.0</td><td> 0.0</td></tr>\n",
       "\t<tr><td>NA</td><td> 0.2</td><td> 0.1</td></tr>\n",
       "</tbody>\n",
       "</table>\n"
      ],
      "text/latex": [
       "A tibble: 31 × 3\n",
       "\\begin{tabular}{lll}\n",
       " age & max\\_played\\_hours & min\\_played\\_hours\\\\\n",
       " <dbl> & <dbl> & <dbl>\\\\\n",
       "\\hline\n",
       "\t  8 &  0.3 &  0.3\\\\\n",
       "\t  9 & 30.3 & 30.3\\\\\n",
       "\t 10 &  3.6 &  3.6\\\\\n",
       "\t ⋮ & ⋮ & ⋮\\\\\n",
       "\t 49 & 18.5 & 18.5\\\\\n",
       "\t 50 &  0.0 &  0.0\\\\\n",
       "\t NA &  0.2 &  0.1\\\\\n",
       "\\end{tabular}\n"
      ],
      "text/markdown": [
       "\n",
       "A tibble: 31 × 3\n",
       "\n",
       "| age &lt;dbl&gt; | max_played_hours &lt;dbl&gt; | min_played_hours &lt;dbl&gt; |\n",
       "|---|---|---|\n",
       "|  8 |  0.3 |  0.3 |\n",
       "|  9 | 30.3 | 30.3 |\n",
       "| 10 |  3.6 |  3.6 |\n",
       "| ⋮ | ⋮ | ⋮ |\n",
       "| 49 | 18.5 | 18.5 |\n",
       "| 50 |  0.0 |  0.0 |\n",
       "| NA |  0.2 |  0.1 |\n",
       "\n"
      ],
      "text/plain": [
       "   age max_played_hours min_played_hours\n",
       "1   8   0.3              0.3            \n",
       "2   9  30.3             30.3            \n",
       "3  10   3.6              3.6            \n",
       "⋮  ⋮   ⋮                ⋮               \n",
       "29 49  18.5             18.5            \n",
       "30 50   0.0              0.0            \n",
       "31 NA   0.2              0.1            "
      ]
     },
     "metadata": {},
     "output_type": "display_data"
    }
   ],
   "source": [
    "# Maximum and minimum played hours for each age\n",
    "hours_age_range <- players |>\n",
    "                    group_by(age) |>\n",
    "                    summarize(max_played_hours = max(played_hours, na.rm = TRUE),\n",
    "                              min_played_hours = min(played_hours, na.rm = TRUE))\n",
    "hours_age_range"
   ]
  },
  {
   "cell_type": "code",
   "execution_count": 9,
   "id": "92adf805-aff5-4b8e-a5ed-dfc3e66df62b",
   "metadata": {},
   "outputs": [
    {
     "name": "stderr",
     "output_type": "stream",
     "text": [
      "\u001b[1m\u001b[22m`summarise()` has grouped output by 'age'. You can override using the `.groups`\n",
      "argument.\n"
     ]
    },
    {
     "data": {
      "text/html": [
       "<table class=\"dataframe\">\n",
       "<caption>A grouped_df: 66 × 5</caption>\n",
       "<thead>\n",
       "\t<tr><th scope=col>age</th><th scope=col>experience</th><th scope=col>total_played_hours</th><th scope=col>average_played_hours</th><th scope=col>median_played_hours</th></tr>\n",
       "\t<tr><th scope=col>&lt;dbl&gt;</th><th scope=col>&lt;chr&gt;</th><th scope=col>&lt;dbl&gt;</th><th scope=col>&lt;dbl&gt;</th><th scope=col>&lt;dbl&gt;</th></tr>\n",
       "</thead>\n",
       "<tbody>\n",
       "\t<tr><td> 8</td><td>Regular</td><td> 0.3</td><td> 0.3</td><td> 0.3</td></tr>\n",
       "\t<tr><td> 9</td><td>Pro    </td><td>30.3</td><td>30.3</td><td>30.3</td></tr>\n",
       "\t<tr><td>10</td><td>Regular</td><td> 3.6</td><td> 3.6</td><td> 3.6</td></tr>\n",
       "\t<tr><td>⋮</td><td>⋮</td><td>⋮</td><td>⋮</td><td>⋮</td></tr>\n",
       "\t<tr><td>50</td><td>Regular</td><td>0.0</td><td>0.0</td><td>0.0</td></tr>\n",
       "\t<tr><td>NA</td><td>Pro    </td><td>0.2</td><td>0.2</td><td>0.2</td></tr>\n",
       "\t<tr><td>NA</td><td>Regular</td><td>0.1</td><td>0.1</td><td>0.1</td></tr>\n",
       "</tbody>\n",
       "</table>\n"
      ],
      "text/latex": [
       "A grouped\\_df: 66 × 5\n",
       "\\begin{tabular}{lllll}\n",
       " age & experience & total\\_played\\_hours & average\\_played\\_hours & median\\_played\\_hours\\\\\n",
       " <dbl> & <chr> & <dbl> & <dbl> & <dbl>\\\\\n",
       "\\hline\n",
       "\t  8 & Regular &  0.3 &  0.3 &  0.3\\\\\n",
       "\t  9 & Pro     & 30.3 & 30.3 & 30.3\\\\\n",
       "\t 10 & Regular &  3.6 &  3.6 &  3.6\\\\\n",
       "\t ⋮ & ⋮ & ⋮ & ⋮ & ⋮\\\\\n",
       "\t 50 & Regular & 0.0 & 0.0 & 0.0\\\\\n",
       "\t NA & Pro     & 0.2 & 0.2 & 0.2\\\\\n",
       "\t NA & Regular & 0.1 & 0.1 & 0.1\\\\\n",
       "\\end{tabular}\n"
      ],
      "text/markdown": [
       "\n",
       "A grouped_df: 66 × 5\n",
       "\n",
       "| age &lt;dbl&gt; | experience &lt;chr&gt; | total_played_hours &lt;dbl&gt; | average_played_hours &lt;dbl&gt; | median_played_hours &lt;dbl&gt; |\n",
       "|---|---|---|---|---|\n",
       "|  8 | Regular |  0.3 |  0.3 |  0.3 |\n",
       "|  9 | Pro     | 30.3 | 30.3 | 30.3 |\n",
       "| 10 | Regular |  3.6 |  3.6 |  3.6 |\n",
       "| ⋮ | ⋮ | ⋮ | ⋮ | ⋮ |\n",
       "| 50 | Regular | 0.0 | 0.0 | 0.0 |\n",
       "| NA | Pro     | 0.2 | 0.2 | 0.2 |\n",
       "| NA | Regular | 0.1 | 0.1 | 0.1 |\n",
       "\n"
      ],
      "text/plain": [
       "   age experience total_played_hours average_played_hours median_played_hours\n",
       "1   8  Regular     0.3                0.3                  0.3               \n",
       "2   9  Pro        30.3               30.3                 30.3               \n",
       "3  10  Regular     3.6                3.6                  3.6               \n",
       "⋮  ⋮   ⋮          ⋮                  ⋮                    ⋮                  \n",
       "64 50  Regular    0.0                0.0                  0.0                \n",
       "65 NA  Pro        0.2                0.2                  0.2                \n",
       "66 NA  Regular    0.1                0.1                  0.1                "
      ]
     },
     "metadata": {},
     "output_type": "display_data"
    }
   ],
   "source": [
    "hours_age_exp_sum <- players |>\n",
    "             group_by(age, experience) |>\n",
    "             summarize(total_played_hours = sum(played_hours, na.rm = TRUE),\n",
    "                       average_played_hours = mean(played_hours, na.rm = TRUE),\n",
    "                       median_played_hours = median(played_hours, na.rm = TRUE))\n",
    "hours_age_exp_sum"
   ]
  },
  {
   "cell_type": "code",
   "execution_count": 10,
   "id": "8669caa9-e287-48d9-ac7b-45ca54e93569",
   "metadata": {},
   "outputs": [
    {
     "name": "stderr",
     "output_type": "stream",
     "text": [
      "\u001b[1m\u001b[22m`summarise()` has grouped output by 'age'. You can override using the `.groups`\n",
      "argument.\n"
     ]
    },
    {
     "data": {
      "text/html": [
       "<table class=\"dataframe\">\n",
       "<caption>A grouped_df: 66 × 4</caption>\n",
       "<thead>\n",
       "\t<tr><th scope=col>age</th><th scope=col>experience</th><th scope=col>max_played_hours</th><th scope=col>min_played_hours</th></tr>\n",
       "\t<tr><th scope=col>&lt;dbl&gt;</th><th scope=col>&lt;chr&gt;</th><th scope=col>&lt;dbl&gt;</th><th scope=col>&lt;dbl&gt;</th></tr>\n",
       "</thead>\n",
       "<tbody>\n",
       "\t<tr><td> 8</td><td>Regular</td><td> 0.3</td><td> 0.3</td></tr>\n",
       "\t<tr><td> 9</td><td>Pro    </td><td>30.3</td><td>30.3</td></tr>\n",
       "\t<tr><td>10</td><td>Regular</td><td> 3.6</td><td> 3.6</td></tr>\n",
       "\t<tr><td>⋮</td><td>⋮</td><td>⋮</td><td>⋮</td></tr>\n",
       "\t<tr><td>50</td><td>Regular</td><td>0.0</td><td>0.0</td></tr>\n",
       "\t<tr><td>NA</td><td>Pro    </td><td>0.2</td><td>0.2</td></tr>\n",
       "\t<tr><td>NA</td><td>Regular</td><td>0.1</td><td>0.1</td></tr>\n",
       "</tbody>\n",
       "</table>\n"
      ],
      "text/latex": [
       "A grouped\\_df: 66 × 4\n",
       "\\begin{tabular}{llll}\n",
       " age & experience & max\\_played\\_hours & min\\_played\\_hours\\\\\n",
       " <dbl> & <chr> & <dbl> & <dbl>\\\\\n",
       "\\hline\n",
       "\t  8 & Regular &  0.3 &  0.3\\\\\n",
       "\t  9 & Pro     & 30.3 & 30.3\\\\\n",
       "\t 10 & Regular &  3.6 &  3.6\\\\\n",
       "\t ⋮ & ⋮ & ⋮ & ⋮\\\\\n",
       "\t 50 & Regular & 0.0 & 0.0\\\\\n",
       "\t NA & Pro     & 0.2 & 0.2\\\\\n",
       "\t NA & Regular & 0.1 & 0.1\\\\\n",
       "\\end{tabular}\n"
      ],
      "text/markdown": [
       "\n",
       "A grouped_df: 66 × 4\n",
       "\n",
       "| age &lt;dbl&gt; | experience &lt;chr&gt; | max_played_hours &lt;dbl&gt; | min_played_hours &lt;dbl&gt; |\n",
       "|---|---|---|---|\n",
       "|  8 | Regular |  0.3 |  0.3 |\n",
       "|  9 | Pro     | 30.3 | 30.3 |\n",
       "| 10 | Regular |  3.6 |  3.6 |\n",
       "| ⋮ | ⋮ | ⋮ | ⋮ |\n",
       "| 50 | Regular | 0.0 | 0.0 |\n",
       "| NA | Pro     | 0.2 | 0.2 |\n",
       "| NA | Regular | 0.1 | 0.1 |\n",
       "\n"
      ],
      "text/plain": [
       "   age experience max_played_hours min_played_hours\n",
       "1   8  Regular     0.3              0.3            \n",
       "2   9  Pro        30.3             30.3            \n",
       "3  10  Regular     3.6              3.6            \n",
       "⋮  ⋮   ⋮          ⋮                ⋮               \n",
       "64 50  Regular    0.0              0.0             \n",
       "65 NA  Pro        0.2              0.2             \n",
       "66 NA  Regular    0.1              0.1             "
      ]
     },
     "metadata": {},
     "output_type": "display_data"
    }
   ],
   "source": [
    "hours_age_exp_range <- players |>\n",
    "             group_by(age, experience) |>\n",
    "             summarize(max_played_hours = max(played_hours, na.rm = TRUE),\n",
    "                       min_played_hours = min(played_hours, na.rm = TRUE))\n",
    "hours_age_exp_range"
   ]
  },
  {
   "cell_type": "code",
   "execution_count": 11,
   "id": "6d78d29b-8fa4-44fe-b60f-4cb85704cbcd",
   "metadata": {},
   "outputs": [
    {
     "name": "stderr",
     "output_type": "stream",
     "text": [
      "\u001b[1m\u001b[22m`summarise()` has grouped output by 'experience'. You can override using the\n",
      "`.groups` argument.\n"
     ]
    },
    {
     "data": {
      "text/html": [
       "<table class=\"dataframe\">\n",
       "<caption>A grouped_df: 66 × 5</caption>\n",
       "<thead>\n",
       "\t<tr><th scope=col>experience</th><th scope=col>age</th><th scope=col>total_played_hours</th><th scope=col>average_played_hours</th><th scope=col>median_played_hours</th></tr>\n",
       "\t<tr><th scope=col>&lt;chr&gt;</th><th scope=col>&lt;dbl&gt;</th><th scope=col>&lt;dbl&gt;</th><th scope=col>&lt;dbl&gt;</th><th scope=col>&lt;dbl&gt;</th></tr>\n",
       "</thead>\n",
       "<tbody>\n",
       "\t<tr><td>Amateur</td><td>11</td><td>  2.9</td><td> 2.9</td><td> 2.9</td></tr>\n",
       "\t<tr><td>Amateur</td><td>14</td><td> 17.2</td><td>17.2</td><td>17.2</td></tr>\n",
       "\t<tr><td>Amateur</td><td>16</td><td>150.0</td><td>75.0</td><td>75.0</td></tr>\n",
       "\t<tr><td>⋮</td><td>⋮</td><td>⋮</td><td>⋮</td><td>⋮</td></tr>\n",
       "\t<tr><td>Veteran</td><td>38</td><td>0.2</td><td>0.2</td><td>0.2</td></tr>\n",
       "\t<tr><td>Veteran</td><td>44</td><td>0.1</td><td>0.1</td><td>0.1</td></tr>\n",
       "\t<tr><td>Veteran</td><td>46</td><td>0.0</td><td>0.0</td><td>0.0</td></tr>\n",
       "</tbody>\n",
       "</table>\n"
      ],
      "text/latex": [
       "A grouped\\_df: 66 × 5\n",
       "\\begin{tabular}{lllll}\n",
       " experience & age & total\\_played\\_hours & average\\_played\\_hours & median\\_played\\_hours\\\\\n",
       " <chr> & <dbl> & <dbl> & <dbl> & <dbl>\\\\\n",
       "\\hline\n",
       "\t Amateur & 11 &   2.9 &  2.9 &  2.9\\\\\n",
       "\t Amateur & 14 &  17.2 & 17.2 & 17.2\\\\\n",
       "\t Amateur & 16 & 150.0 & 75.0 & 75.0\\\\\n",
       "\t ⋮ & ⋮ & ⋮ & ⋮ & ⋮\\\\\n",
       "\t Veteran & 38 & 0.2 & 0.2 & 0.2\\\\\n",
       "\t Veteran & 44 & 0.1 & 0.1 & 0.1\\\\\n",
       "\t Veteran & 46 & 0.0 & 0.0 & 0.0\\\\\n",
       "\\end{tabular}\n"
      ],
      "text/markdown": [
       "\n",
       "A grouped_df: 66 × 5\n",
       "\n",
       "| experience &lt;chr&gt; | age &lt;dbl&gt; | total_played_hours &lt;dbl&gt; | average_played_hours &lt;dbl&gt; | median_played_hours &lt;dbl&gt; |\n",
       "|---|---|---|---|---|\n",
       "| Amateur | 11 |   2.9 |  2.9 |  2.9 |\n",
       "| Amateur | 14 |  17.2 | 17.2 | 17.2 |\n",
       "| Amateur | 16 | 150.0 | 75.0 | 75.0 |\n",
       "| ⋮ | ⋮ | ⋮ | ⋮ | ⋮ |\n",
       "| Veteran | 38 | 0.2 | 0.2 | 0.2 |\n",
       "| Veteran | 44 | 0.1 | 0.1 | 0.1 |\n",
       "| Veteran | 46 | 0.0 | 0.0 | 0.0 |\n",
       "\n"
      ],
      "text/plain": [
       "   experience age total_played_hours average_played_hours median_played_hours\n",
       "1  Amateur    11    2.9               2.9                  2.9               \n",
       "2  Amateur    14   17.2              17.2                 17.2               \n",
       "3  Amateur    16  150.0              75.0                 75.0               \n",
       "⋮  ⋮          ⋮   ⋮                  ⋮                    ⋮                  \n",
       "64 Veteran    38  0.2                0.2                  0.2                \n",
       "65 Veteran    44  0.1                0.1                  0.1                \n",
       "66 Veteran    46  0.0                0.0                  0.0                "
      ]
     },
     "metadata": {},
     "output_type": "display_data"
    }
   ],
   "source": [
    "hours_exp_age_sum <- players |>\n",
    "             group_by(experience, age) |>\n",
    "             summarize(total_played_hours = sum(played_hours, na.rm = TRUE),\n",
    "                       average_played_hours = mean(played_hours, na.rm = TRUE),\n",
    "                       median_played_hours = median(played_hours, na.rm = TRUE))\n",
    "hours_exp_age_sum"
   ]
  },
  {
   "cell_type": "code",
   "execution_count": 13,
   "id": "0dd92ddf-e86a-4f4d-b2c3-0dd774b99a5e",
   "metadata": {},
   "outputs": [
    {
     "name": "stderr",
     "output_type": "stream",
     "text": [
      "\u001b[1m\u001b[22m`summarise()` has grouped output by 'experience'. You can override using the\n",
      "`.groups` argument.\n"
     ]
    },
    {
     "data": {
      "text/html": [
       "<table class=\"dataframe\">\n",
       "<caption>A grouped_df: 66 × 4</caption>\n",
       "<thead>\n",
       "\t<tr><th scope=col>experience</th><th scope=col>age</th><th scope=col>max_played_hours</th><th scope=col>min_played_hours</th></tr>\n",
       "\t<tr><th scope=col>&lt;chr&gt;</th><th scope=col>&lt;dbl&gt;</th><th scope=col>&lt;dbl&gt;</th><th scope=col>&lt;dbl&gt;</th></tr>\n",
       "</thead>\n",
       "<tbody>\n",
       "\t<tr><td>Amateur</td><td>11</td><td>  2.9</td><td> 2.9</td></tr>\n",
       "\t<tr><td>Amateur</td><td>14</td><td> 17.2</td><td>17.2</td></tr>\n",
       "\t<tr><td>Amateur</td><td>16</td><td>150.0</td><td> 0.0</td></tr>\n",
       "\t<tr><td>⋮</td><td>⋮</td><td>⋮</td><td>⋮</td></tr>\n",
       "\t<tr><td>Veteran</td><td>38</td><td>0.2</td><td>0.2</td></tr>\n",
       "\t<tr><td>Veteran</td><td>44</td><td>0.1</td><td>0.1</td></tr>\n",
       "\t<tr><td>Veteran</td><td>46</td><td>0.0</td><td>0.0</td></tr>\n",
       "</tbody>\n",
       "</table>\n"
      ],
      "text/latex": [
       "A grouped\\_df: 66 × 4\n",
       "\\begin{tabular}{llll}\n",
       " experience & age & max\\_played\\_hours & min\\_played\\_hours\\\\\n",
       " <chr> & <dbl> & <dbl> & <dbl>\\\\\n",
       "\\hline\n",
       "\t Amateur & 11 &   2.9 &  2.9\\\\\n",
       "\t Amateur & 14 &  17.2 & 17.2\\\\\n",
       "\t Amateur & 16 & 150.0 &  0.0\\\\\n",
       "\t ⋮ & ⋮ & ⋮ & ⋮\\\\\n",
       "\t Veteran & 38 & 0.2 & 0.2\\\\\n",
       "\t Veteran & 44 & 0.1 & 0.1\\\\\n",
       "\t Veteran & 46 & 0.0 & 0.0\\\\\n",
       "\\end{tabular}\n"
      ],
      "text/markdown": [
       "\n",
       "A grouped_df: 66 × 4\n",
       "\n",
       "| experience &lt;chr&gt; | age &lt;dbl&gt; | max_played_hours &lt;dbl&gt; | min_played_hours &lt;dbl&gt; |\n",
       "|---|---|---|---|\n",
       "| Amateur | 11 |   2.9 |  2.9 |\n",
       "| Amateur | 14 |  17.2 | 17.2 |\n",
       "| Amateur | 16 | 150.0 |  0.0 |\n",
       "| ⋮ | ⋮ | ⋮ | ⋮ |\n",
       "| Veteran | 38 | 0.2 | 0.2 |\n",
       "| Veteran | 44 | 0.1 | 0.1 |\n",
       "| Veteran | 46 | 0.0 | 0.0 |\n",
       "\n"
      ],
      "text/plain": [
       "   experience age max_played_hours min_played_hours\n",
       "1  Amateur    11    2.9             2.9            \n",
       "2  Amateur    14   17.2            17.2            \n",
       "3  Amateur    16  150.0             0.0            \n",
       "⋮  ⋮          ⋮   ⋮                ⋮               \n",
       "64 Veteran    38  0.2              0.2             \n",
       "65 Veteran    44  0.1              0.1             \n",
       "66 Veteran    46  0.0              0.0             "
      ]
     },
     "metadata": {},
     "output_type": "display_data"
    }
   ],
   "source": [
    "hours_exp_age_range <- players |>\n",
    "             group_by(experience, age) |>\n",
    "             summarize(max_played_hours = max(played_hours, na.rm = TRUE),\n",
    "                       min_played_hours = min(played_hours, na.rm = TRUE))\n",
    "hours_exp_age_range"
   ]
  },
  {
   "cell_type": "code",
   "execution_count": null,
   "id": "401f21e7-9f15-4687-8ca2-3263cfb65615",
   "metadata": {},
   "outputs": [],
   "source": []
  }
 ],
 "metadata": {
  "kernelspec": {
   "display_name": "R",
   "language": "R",
   "name": "ir"
  },
  "language_info": {
   "codemirror_mode": "r",
   "file_extension": ".r",
   "mimetype": "text/x-r-source",
   "name": "R",
   "pygments_lexer": "r",
   "version": "4.3.3"
  }
 },
 "nbformat": 4,
 "nbformat_minor": 5
}
